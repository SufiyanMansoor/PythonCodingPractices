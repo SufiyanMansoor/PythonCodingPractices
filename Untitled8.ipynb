{
 "cells": [
  {
   "cell_type": "code",
   "execution_count": 7,
   "metadata": {},
   "outputs": [
    {
     "name": "stdout",
     "output_type": "stream",
     "text": [
      "yes its working\n"
     ]
    }
   ],
   "source": [
    "age = 10 \n",
    "if age == 10 :\n",
    "    print (\"yes its working\")"
   ]
  },
  {
   "cell_type": "code",
   "execution_count": 8,
   "metadata": {},
   "outputs": [
    {
     "name": "stdout",
     "output_type": "stream",
     "text": [
      "bro some technical issue code is not working\n"
     ]
    }
   ],
   "source": [
    "age =10 \n",
    "if age == '10' :\n",
    "    print (\"if statement is correct code is working\")\n",
    "else :\n",
    "    print (\"bro some technical issue code is not working\")\n",
    "    "
   ]
  },
  {
   "cell_type": "code",
   "execution_count": 9,
   "metadata": {},
   "outputs": [
    {
     "name": "stdout",
     "output_type": "stream",
     "text": [
      "yes code is fine its working \n"
     ]
    }
   ],
   "source": [
    "age = '10'\n",
    "converted_age=int(age)\n",
    "\n",
    "if converted_age==10:\n",
    "    print (\"yes code is fine its working \")\n",
    "    \n",
    "else :\n",
    "    print (\" no bro its not working\")"
   ]
  },
  {
   "cell_type": "code",
   "execution_count": 10,
   "metadata": {},
   "outputs": [
    {
     "name": "stdout",
     "output_type": "stream",
     "text": [
      " yes brother is working fine ok  code\n"
     ]
    }
   ],
   "source": [
    "age = 10 \n",
    "converted_age=str(age)\n",
    "if converted_age == '10' :\n",
    "    print (\" yes brother is working fine ok  code\")\n",
    "else :\n",
    "    print (\"not bro its not fine code\")"
   ]
  },
  {
   "cell_type": "code",
   "execution_count": null,
   "metadata": {},
   "outputs": [],
   "source": []
  },
  {
   "cell_type": "code",
   "execution_count": null,
   "metadata": {},
   "outputs": [],
   "source": []
  }
 ],
 "metadata": {
  "kernelspec": {
   "display_name": "Python 3",
   "language": "python",
   "name": "python3"
  },
  "language_info": {
   "codemirror_mode": {
    "name": "ipython",
    "version": 3
   },
   "file_extension": ".py",
   "mimetype": "text/x-python",
   "name": "python",
   "nbconvert_exporter": "python",
   "pygments_lexer": "ipython3",
   "version": "3.8.5"
  }
 },
 "nbformat": 4,
 "nbformat_minor": 4
}
