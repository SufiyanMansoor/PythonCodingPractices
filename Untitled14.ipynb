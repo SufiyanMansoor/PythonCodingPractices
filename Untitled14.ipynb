{
 "cells": [
  {
   "cell_type": "code",
   "execution_count": 14,
   "metadata": {},
   "outputs": [
    {
     "name": "stdout",
     "output_type": "stream",
     "text": [
      "<class '__main__.huzaifaQadri'>\n"
     ]
    }
   ],
   "source": [
    "class office:\n",
    "    pass\n",
    "class eightFloor(office):\n",
    "    pass\n",
    "class eleventhFloor(office):\n",
    "    pass\n",
    "class sufiyanMansoor(eightFloor):\n",
    "    pass\n",
    "class sufiyanYaqoob(eleventhFloor):\n",
    "    pass\n",
    "class zeerak(sufiyanMansoor):\n",
    "    pass\n",
    "class yousufzong(sufiyanMansoor):\n",
    "    pass\n",
    "class ahmedraza(sufiyanYaqoob):\n",
    "    pass\n",
    "class huzaifaQadri(sufiyanYaqoob):\n",
    "    pass\n",
    "    print(huzaifaQadri)"
   ]
  },
  {
   "cell_type": "code",
   "execution_count": null,
   "metadata": {},
   "outputs": [],
   "source": []
  },
  {
   "cell_type": "code",
   "execution_count": null,
   "metadata": {},
   "outputs": [],
   "source": []
  },
  {
   "cell_type": "code",
   "execution_count": null,
   "metadata": {},
   "outputs": [],
   "source": []
  }
 ],
 "metadata": {
  "kernelspec": {
   "display_name": "Python 3",
   "language": "python",
   "name": "python3"
  },
  "language_info": {
   "codemirror_mode": {
    "name": "ipython",
    "version": 3
   },
   "file_extension": ".py",
   "mimetype": "text/x-python",
   "name": "python",
   "nbconvert_exporter": "python",
   "pygments_lexer": "ipython3",
   "version": "3.8.5"
  }
 },
 "nbformat": 4,
 "nbformat_minor": 4
}
