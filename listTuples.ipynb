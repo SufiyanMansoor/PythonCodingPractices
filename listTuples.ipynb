{
 "cells": [
  {
   "cell_type": "code",
   "execution_count": 1,
   "id": "252578c0",
   "metadata": {},
   "outputs": [
    {
     "data": {
      "text/plain": [
       "[2, 4, 26, 32, 56, 76, 78, 89]"
      ]
     },
     "execution_count": 1,
     "metadata": {},
     "output_type": "execute_result"
    }
   ],
   "source": [
    "# .sort Extesnion Used\n",
    "alphaList=[32,26,56,76,2,89,78,4]\n",
    "alphaList.sort()\n",
    "alphaList"
   ]
  },
  {
   "cell_type": "code",
   "execution_count": 3,
   "id": "fadb5ffe",
   "metadata": {},
   "outputs": [
    {
     "name": "stdout",
     "output_type": "stream",
     "text": [
      "None\n"
     ]
    }
   ],
   "source": [
    "#  A None List\n",
    "alphaList=[27,34,56,7,4,3,8,9,98]\n",
    "sortedList=alphaList.sort()\n",
    "sortedList\n",
    "print(sortedList)"
   ]
  },
  {
   "cell_type": "code",
   "execution_count": 6,
   "id": "4c0c7e4b",
   "metadata": {},
   "outputs": [
    {
     "data": {
      "text/plain": [
       "[45, 67, 89, 34, 23, 9, 3, 6, 5, 12]"
      ]
     },
     "execution_count": 6,
     "metadata": {},
     "output_type": "execute_result"
    }
   ],
   "source": [
    "#  Silicing A List\n",
    "alphaList=[45,67,89,34,23,9,3,6,5,12]\n",
    "alphaList[0:15]"
   ]
  },
  {
   "cell_type": "code",
   "execution_count": 8,
   "id": "fb88134c",
   "metadata": {},
   "outputs": [
    {
     "data": {
      "text/plain": [
       "(1, 2, 3)"
      ]
     },
     "execution_count": 8,
     "metadata": {},
     "output_type": "execute_result"
    }
   ],
   "source": [
    "# Tuple Example\n",
    "# Tuple Are Like A couple Which Means They Connot Be Change\n",
    "\n",
    "my_Tuple=(1,2,3)\n",
    "my_Tuple[0:4]"
   ]
  },
  {
   "cell_type": "code",
   "execution_count": 10,
   "id": "5ce3ff96",
   "metadata": {},
   "outputs": [],
   "source": [
    "# Or An ANother Tuple\n",
    "\n",
    "another_tuple=tuple()"
   ]
  },
  {
   "cell_type": "code",
   "execution_count": 11,
   "id": "51b76881",
   "metadata": {},
   "outputs": [],
   "source": [
    "#  Tuple Casting Which Means List Inside A Tuple\n",
    "abc=tuple([1,2,3])"
   ]
  },
  {
   "cell_type": "code",
   "execution_count": 15,
   "id": "bab6e922",
   "metadata": {},
   "outputs": [
    {
     "data": {
      "text/plain": [
       "{'one': 1, 'two': 2, 'Three': 3}"
      ]
     },
     "execution_count": 15,
     "metadata": {},
     "output_type": "execute_result"
    }
   ],
   "source": [
    "#  Dictionary Values\n",
    "my_other_dict={\"one\":1,\"two\":2,\"Three\":3 }\n",
    "\n",
    "my_other_dict"
   ]
  },
  {
   "cell_type": "code",
   "execution_count": null,
   "id": "7ac47ea4",
   "metadata": {},
   "outputs": [],
   "source": [
    "dict={\"name\":\"Sufiyan\",\"Adress\":\"\"}"
   ]
  },
  {
   "cell_type": "code",
   "execution_count": null,
   "id": "a36f3bd6",
   "metadata": {},
   "outputs": [],
   "source": []
  }
 ],
 "metadata": {
  "kernelspec": {
   "display_name": "Python 3",
   "language": "python",
   "name": "python3"
  },
  "language_info": {
   "codemirror_mode": {
    "name": "ipython",
    "version": 3
   },
   "file_extension": ".py",
   "mimetype": "text/x-python",
   "name": "python",
   "nbconvert_exporter": "python",
   "pygments_lexer": "ipython3",
   "version": "3.8.8"
  }
 },
 "nbformat": 4,
 "nbformat_minor": 5
}
