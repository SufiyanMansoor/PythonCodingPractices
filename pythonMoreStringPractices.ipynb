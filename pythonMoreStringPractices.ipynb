{
 "cells": [
  {
   "cell_type": "code",
   "execution_count": 10,
   "metadata": {},
   "outputs": [
    {
     "data": {
      "text/plain": [
       "'Sufiyan'"
      ]
     },
     "execution_count": 10,
     "metadata": {},
     "output_type": "execute_result"
    }
   ],
   "source": [
    "# String Silicing\n",
    "my_name=\"SufiyanBawany\"\n",
    "my_name[0:7]"
   ]
  },
  {
   "cell_type": "code",
   "execution_count": 3,
   "metadata": {},
   "outputs": [
    {
     "name": "stdout",
     "output_type": "stream",
     "text": [
      "n\n"
     ]
    }
   ],
   "source": [
    "# Silicing Down To A single Charachter\n",
    "\n",
    "my_Country=\"Pakistan\"\n",
    "print(my_Country[7])"
   ]
  },
  {
   "cell_type": "code",
   "execution_count": 4,
   "metadata": {},
   "outputs": [
    {
     "data": {
      "text/plain": [
       "'i like python'"
      ]
     },
     "execution_count": 4,
     "metadata": {},
     "output_type": "execute_result"
    }
   ],
   "source": [
    "# String Formatting AKA substitution\n",
    "\n",
    "# The old way of string substitution step 1\n",
    "\n",
    "\n",
    "my_string=\"i like %s\"% 'python'\n",
    "my_string"
   ]
  },
  {
   "cell_type": "code",
   "execution_count": 6,
   "metadata": {},
   "outputs": [
    {
     "data": {
      "text/plain": [
       "'i like cookies'"
      ]
     },
     "execution_count": 6,
     "metadata": {},
     "output_type": "execute_result"
    }
   ],
   "source": [
    "# The old way of string substitution step 2\n",
    "\n",
    "var=\"cookies\"\n",
    "my_choice=\"i like %s\" % var\n",
    "\n",
    "my_choice"
   ]
  },
  {
   "cell_type": "code",
   "execution_count": 7,
   "metadata": {},
   "outputs": [
    {
     "data": {
      "text/plain": [
       "'i like python and prince bisuit'"
      ]
     },
     "execution_count": 7,
     "metadata": {},
     "output_type": "execute_result"
    }
   ],
   "source": [
    "# The old way of string substitution step 3\n",
    "\n",
    "var=\"prince bisuit\"\n",
    "my_choice=\"i like %s and %s\" % (\"python\" ,var)\n",
    "my_choice\n"
   ]
  },
  {
   "cell_type": "code",
   "execution_count": 8,
   "metadata": {},
   "outputs": [
    {
     "data": {
      "text/plain": [
       "'1+2=3'"
      ]
     },
     "execution_count": 8,
     "metadata": {},
     "output_type": "execute_result"
    }
   ],
   "source": [
    "# Examples with integers\n",
    "\n",
    "my_integers=\"%i+%i=%i\"%(1,2,3)\n",
    "my_integers"
   ]
  },
  {
   "cell_type": "code",
   "execution_count": 2,
   "metadata": {},
   "outputs": [
    {
     "data": {
      "text/plain": [
       "'1.230000'"
      ]
     },
     "execution_count": 2,
     "metadata": {},
     "output_type": "execute_result"
    }
   ],
   "source": [
    "# Examples with float\n",
    "\n",
    "float_String=\"%f\"%(1.23)\n",
    "float_String"
   ]
  },
  {
   "cell_type": "code",
   "execution_count": 6,
   "metadata": {},
   "outputs": [
    {
     "data": {
      "text/plain": [
       "'1.2300000000'"
      ]
     },
     "execution_count": 6,
     "metadata": {},
     "output_type": "execute_result"
    }
   ],
   "source": [
    "#  Another Float String\n",
    "\n",
    "float_string2=\"%.10f\"%(1.23)\n",
    "float_string2"
   ]
  },
  {
   "cell_type": "code",
   "execution_count": 7,
   "metadata": {},
   "outputs": [
    {
     "name": "stdout",
     "output_type": "stream",
     "text": [
      "python is fun!\n"
     ]
    }
   ],
   "source": [
    "# Templates and the New String Formatting MethodologyAnother way of formatting\n",
    "\n",
    "print(\"%(lang)s is fun!\"%{\"lang\":\"python\"})"
   ]
  },
  {
   "cell_type": "code",
   "execution_count": 9,
   "metadata": {},
   "outputs": [
    {
     "name": "stdout",
     "output_type": "stream",
     "text": [
      "python is fun !\n"
     ]
    }
   ],
   "source": [
    "# Templates and the New String Formatting MethodologyAnother way of formatting\n",
    "\n",
    "print(\"%(lang)s is fun !\" %{\"lang\":\"python\"})"
   ]
  },
  {
   "cell_type": "code",
   "execution_count": 11,
   "metadata": {},
   "outputs": [
    {
     "name": "stdout",
     "output_type": "stream",
     "text": [
      "SufiyanBawany is !\n"
     ]
    }
   ],
   "source": [
    "# Templates and the New String Formatting MethodologyAnother way of formatting\n",
    "\n",
    "print(\"%(myname)s is !\"%{\"myname\":\"SufiyanBawany\"})"
   ]
  },
  {
   "cell_type": "code",
   "execution_count": 12,
   "metadata": {},
   "outputs": [
    {
     "name": "stdout",
     "output_type": "stream",
     "text": [
      "heloo my name SufiyanBawany is !\n"
     ]
    }
   ],
   "source": [
    "print(\"heloo my name %(my_name)s is !\" % {\"my_name\":\"SufiyanBawany\"})"
   ]
  },
  {
   "cell_type": "code",
   "execution_count": 1,
   "metadata": {},
   "outputs": [
    {
     "name": "stdout",
     "output_type": "stream",
     "text": [
      "My Country PakistanMy Country PakistanMy Country Pakistan !\n"
     ]
    }
   ],
   "source": [
    "# More Example With Text\n",
    "\n",
    "print(\"%(value)s%(value)s%(value)s !\"%{\"value\":\"My Country Pakistan\"})"
   ]
  },
  {
   "cell_type": "code",
   "execution_count": 2,
   "metadata": {},
   "outputs": [
    {
     "name": "stdout",
     "output_type": "stream",
     "text": [
      "Sufiyan BawanySufiyan BawanySufiyan Bawany !\n"
     ]
    }
   ],
   "source": [
    "print(\"%(name)s%(name)s%(name)s !\" % {\"name\":\"Sufiyan Bawany\"})"
   ]
  },
  {
   "cell_type": "code",
   "execution_count": 10,
   "metadata": {},
   "outputs": [
    {
     "name": "stdout",
     "output_type": "stream",
     "text": [
      "1+2=3 \n"
     ]
    }
   ],
   "source": [
    "# More Examples With Number\n",
    "print(\"%(x)i+%(y)i=%(z)i \"  % {\"x\":1,\"y\":2,\"z\":3})"
   ]
  },
  {
   "cell_type": "code",
   "execution_count": 11,
   "metadata": {},
   "outputs": [
    {
     "data": {
      "text/plain": [
       "'python is a sample as a,b,c'"
      ]
     },
     "execution_count": 11,
     "metadata": {},
     "output_type": "execute_result"
    }
   ],
   "source": [
    "#Another Example\n",
    "\n",
    "\"python is a sample as {0},{1},{2}\".format(\"a\",\"b\",\"c\")"
   ]
  },
  {
   "cell_type": "code",
   "execution_count": 13,
   "metadata": {},
   "outputs": [
    {
     "name": "stdout",
     "output_type": "stream",
     "text": [
      "graph a point where x=0and  y=10\n"
     ]
    }
   ],
   "source": [
    "#Another Example\n",
    "\n",
    "xy={\"x\":0,\"y\":10}\n",
    "print(\"graph a point where x={x}and  y={y}\".format(**xy))"
   ]
  },
  {
   "cell_type": "code",
   "execution_count": 15,
   "metadata": {},
   "outputs": [
    {
     "name": "stdout",
     "output_type": "stream",
     "text": [
      "Plotting A graph Where y=10 and z=20\n"
     ]
    }
   ],
   "source": [
    "#Another Example\n",
    " \n",
    "yz={\"y\":10,\"z\":20}\n",
    "print(\"Plotting A graph Where y={y} and z={z}\".format(**yz))"
   ]
  },
  {
   "cell_type": "code",
   "execution_count": null,
   "metadata": {},
   "outputs": [],
   "source": []
  }
 ],
 "metadata": {
  "kernelspec": {
   "display_name": "Python 3",
   "language": "python",
   "name": "python3"
  },
  "language_info": {
   "codemirror_mode": {
    "name": "ipython",
    "version": 3
   },
   "file_extension": ".py",
   "mimetype": "text/x-python",
   "name": "python",
   "nbconvert_exporter": "python",
   "pygments_lexer": "ipython3",
   "version": "3.8.5"
  }
 },
 "nbformat": 4,
 "nbformat_minor": 4
}
